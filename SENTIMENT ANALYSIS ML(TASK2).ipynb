{
 "cells": [
  {
   "cell_type": "code",
   "execution_count": 1,
   "id": "33ac9fe9-98a9-4652-968c-ee54acb512de",
   "metadata": {},
   "outputs": [],
   "source": [
    "import pandas as pd\n",
    "import numpy as np\n",
    "import re\n",
    "import matplotlib.pyplot as plt\n",
    "import seaborn as sns"
   ]
  },
  {
   "cell_type": "code",
   "execution_count": 7,
   "id": "fdb8779b-ba9f-4543-b527-e1e0215a20d3",
   "metadata": {},
   "outputs": [],
   "source": [
    "df=pd.read_csv(\"amazon_review.csv\")"
   ]
  },
  {
   "cell_type": "code",
   "execution_count": 11,
   "id": "43d6a5bf-570f-4d34-a077-5d9b968268e2",
   "metadata": {},
   "outputs": [
    {
     "data": {
      "text/html": [
       "<div>\n",
       "<style scoped>\n",
       "    .dataframe tbody tr th:only-of-type {\n",
       "        vertical-align: middle;\n",
       "    }\n",
       "\n",
       "    .dataframe tbody tr th {\n",
       "        vertical-align: top;\n",
       "    }\n",
       "\n",
       "    .dataframe thead th {\n",
       "        text-align: right;\n",
       "    }\n",
       "</style>\n",
       "<table border=\"1\" class=\"dataframe\">\n",
       "  <thead>\n",
       "    <tr style=\"text-align: right;\">\n",
       "      <th></th>\n",
       "      <th>reviewerID</th>\n",
       "      <th>asin</th>\n",
       "      <th>reviewerName</th>\n",
       "      <th>helpful</th>\n",
       "      <th>reviewText</th>\n",
       "      <th>overall</th>\n",
       "      <th>summary</th>\n",
       "      <th>unixReviewTime</th>\n",
       "      <th>reviewTime</th>\n",
       "      <th>day_diff</th>\n",
       "      <th>helpful_yes</th>\n",
       "      <th>total_vote</th>\n",
       "    </tr>\n",
       "  </thead>\n",
       "  <tbody>\n",
       "    <tr>\n",
       "      <th>0</th>\n",
       "      <td>A3SBTW3WS4IQSN</td>\n",
       "      <td>B007WTAJTO</td>\n",
       "      <td>NaN</td>\n",
       "      <td>[0, 0]</td>\n",
       "      <td>No issues.</td>\n",
       "      <td>4.0</td>\n",
       "      <td>Four Stars</td>\n",
       "      <td>1406073600</td>\n",
       "      <td>2014-07-23</td>\n",
       "      <td>138</td>\n",
       "      <td>0</td>\n",
       "      <td>0</td>\n",
       "    </tr>\n",
       "    <tr>\n",
       "      <th>1</th>\n",
       "      <td>A18K1ODH1I2MVB</td>\n",
       "      <td>B007WTAJTO</td>\n",
       "      <td>0mie</td>\n",
       "      <td>[0, 0]</td>\n",
       "      <td>Purchased this for my device, it worked as adv...</td>\n",
       "      <td>5.0</td>\n",
       "      <td>MOAR SPACE!!!</td>\n",
       "      <td>1382659200</td>\n",
       "      <td>2013-10-25</td>\n",
       "      <td>409</td>\n",
       "      <td>0</td>\n",
       "      <td>0</td>\n",
       "    </tr>\n",
       "    <tr>\n",
       "      <th>2</th>\n",
       "      <td>A2FII3I2MBMUIA</td>\n",
       "      <td>B007WTAJTO</td>\n",
       "      <td>1K3</td>\n",
       "      <td>[0, 0]</td>\n",
       "      <td>it works as expected. I should have sprung for...</td>\n",
       "      <td>4.0</td>\n",
       "      <td>nothing to really say....</td>\n",
       "      <td>1356220800</td>\n",
       "      <td>2012-12-23</td>\n",
       "      <td>715</td>\n",
       "      <td>0</td>\n",
       "      <td>0</td>\n",
       "    </tr>\n",
       "    <tr>\n",
       "      <th>3</th>\n",
       "      <td>A3H99DFEG68SR</td>\n",
       "      <td>B007WTAJTO</td>\n",
       "      <td>1m2</td>\n",
       "      <td>[0, 0]</td>\n",
       "      <td>This think has worked out great.Had a diff. br...</td>\n",
       "      <td>5.0</td>\n",
       "      <td>Great buy at this price!!!  *** UPDATE</td>\n",
       "      <td>1384992000</td>\n",
       "      <td>2013-11-21</td>\n",
       "      <td>382</td>\n",
       "      <td>0</td>\n",
       "      <td>0</td>\n",
       "    </tr>\n",
       "    <tr>\n",
       "      <th>4</th>\n",
       "      <td>A375ZM4U047O79</td>\n",
       "      <td>B007WTAJTO</td>\n",
       "      <td>2&amp;amp;1/2Men</td>\n",
       "      <td>[0, 0]</td>\n",
       "      <td>Bought it with Retail Packaging, arrived legit...</td>\n",
       "      <td>5.0</td>\n",
       "      <td>best deal around</td>\n",
       "      <td>1373673600</td>\n",
       "      <td>2013-07-13</td>\n",
       "      <td>513</td>\n",
       "      <td>0</td>\n",
       "      <td>0</td>\n",
       "    </tr>\n",
       "    <tr>\n",
       "      <th>5</th>\n",
       "      <td>A2IDCSC6NVONIZ</td>\n",
       "      <td>B007WTAJTO</td>\n",
       "      <td>2Cents!</td>\n",
       "      <td>[0, 0]</td>\n",
       "      <td>It's mini storage.  It doesn't do anything els...</td>\n",
       "      <td>5.0</td>\n",
       "      <td>Not a lot to really be said</td>\n",
       "      <td>1367193600</td>\n",
       "      <td>2013-04-29</td>\n",
       "      <td>588</td>\n",
       "      <td>0</td>\n",
       "      <td>0</td>\n",
       "    </tr>\n",
       "    <tr>\n",
       "      <th>6</th>\n",
       "      <td>A26YHXZD5UFPVQ</td>\n",
       "      <td>B007WTAJTO</td>\n",
       "      <td>2K1Toaster</td>\n",
       "      <td>[0, 0]</td>\n",
       "      <td>I have it in my phone and it never skips a bea...</td>\n",
       "      <td>5.0</td>\n",
       "      <td>Works well</td>\n",
       "      <td>1382140800</td>\n",
       "      <td>2013-10-19</td>\n",
       "      <td>415</td>\n",
       "      <td>0</td>\n",
       "      <td>0</td>\n",
       "    </tr>\n",
       "    <tr>\n",
       "      <th>7</th>\n",
       "      <td>A3CW0ZLUO5X2B1</td>\n",
       "      <td>B007WTAJTO</td>\n",
       "      <td>35-year Technology Consumer \"8-tracks to 802.11\"</td>\n",
       "      <td>[0, 0]</td>\n",
       "      <td>It's hard to believe how affordable digital ha...</td>\n",
       "      <td>5.0</td>\n",
       "      <td>32 GB for less than two sawbucks...what's not ...</td>\n",
       "      <td>1404950400</td>\n",
       "      <td>2014-10-07</td>\n",
       "      <td>62</td>\n",
       "      <td>0</td>\n",
       "      <td>0</td>\n",
       "    </tr>\n",
       "    <tr>\n",
       "      <th>8</th>\n",
       "      <td>A2CYJO155QP33S</td>\n",
       "      <td>B007WTAJTO</td>\n",
       "      <td>4evryoung</td>\n",
       "      <td>[1, 1]</td>\n",
       "      <td>Works in a HTC Rezound.  Was running short of ...</td>\n",
       "      <td>5.0</td>\n",
       "      <td>Loads of room</td>\n",
       "      <td>1395619200</td>\n",
       "      <td>2014-03-24</td>\n",
       "      <td>259</td>\n",
       "      <td>1</td>\n",
       "      <td>1</td>\n",
       "    </tr>\n",
       "    <tr>\n",
       "      <th>9</th>\n",
       "      <td>A2S7XG3ZC4VGOQ</td>\n",
       "      <td>B007WTAJTO</td>\n",
       "      <td>53rdcard</td>\n",
       "      <td>[0, 0]</td>\n",
       "      <td>in my galaxy s4, super fast card, and am total...</td>\n",
       "      <td>5.0</td>\n",
       "      <td>works great</td>\n",
       "      <td>1381449600</td>\n",
       "      <td>2013-11-10</td>\n",
       "      <td>393</td>\n",
       "      <td>0</td>\n",
       "      <td>0</td>\n",
       "    </tr>\n",
       "  </tbody>\n",
       "</table>\n",
       "</div>"
      ],
      "text/plain": [
       "       reviewerID        asin  \\\n",
       "0  A3SBTW3WS4IQSN  B007WTAJTO   \n",
       "1  A18K1ODH1I2MVB  B007WTAJTO   \n",
       "2  A2FII3I2MBMUIA  B007WTAJTO   \n",
       "3   A3H99DFEG68SR  B007WTAJTO   \n",
       "4  A375ZM4U047O79  B007WTAJTO   \n",
       "5  A2IDCSC6NVONIZ  B007WTAJTO   \n",
       "6  A26YHXZD5UFPVQ  B007WTAJTO   \n",
       "7  A3CW0ZLUO5X2B1  B007WTAJTO   \n",
       "8  A2CYJO155QP33S  B007WTAJTO   \n",
       "9  A2S7XG3ZC4VGOQ  B007WTAJTO   \n",
       "\n",
       "                                       reviewerName helpful  \\\n",
       "0                                               NaN  [0, 0]   \n",
       "1                                              0mie  [0, 0]   \n",
       "2                                               1K3  [0, 0]   \n",
       "3                                               1m2  [0, 0]   \n",
       "4                                      2&amp;1/2Men  [0, 0]   \n",
       "5                                           2Cents!  [0, 0]   \n",
       "6                                        2K1Toaster  [0, 0]   \n",
       "7  35-year Technology Consumer \"8-tracks to 802.11\"  [0, 0]   \n",
       "8                                         4evryoung  [1, 1]   \n",
       "9                                          53rdcard  [0, 0]   \n",
       "\n",
       "                                          reviewText  overall  \\\n",
       "0                                         No issues.      4.0   \n",
       "1  Purchased this for my device, it worked as adv...      5.0   \n",
       "2  it works as expected. I should have sprung for...      4.0   \n",
       "3  This think has worked out great.Had a diff. br...      5.0   \n",
       "4  Bought it with Retail Packaging, arrived legit...      5.0   \n",
       "5  It's mini storage.  It doesn't do anything els...      5.0   \n",
       "6  I have it in my phone and it never skips a bea...      5.0   \n",
       "7  It's hard to believe how affordable digital ha...      5.0   \n",
       "8  Works in a HTC Rezound.  Was running short of ...      5.0   \n",
       "9  in my galaxy s4, super fast card, and am total...      5.0   \n",
       "\n",
       "                                             summary  unixReviewTime  \\\n",
       "0                                         Four Stars      1406073600   \n",
       "1                                      MOAR SPACE!!!      1382659200   \n",
       "2                          nothing to really say....      1356220800   \n",
       "3             Great buy at this price!!!  *** UPDATE      1384992000   \n",
       "4                                   best deal around      1373673600   \n",
       "5                        Not a lot to really be said      1367193600   \n",
       "6                                         Works well      1382140800   \n",
       "7  32 GB for less than two sawbucks...what's not ...      1404950400   \n",
       "8                                      Loads of room      1395619200   \n",
       "9                                        works great      1381449600   \n",
       "\n",
       "   reviewTime  day_diff  helpful_yes  total_vote  \n",
       "0  2014-07-23       138            0           0  \n",
       "1  2013-10-25       409            0           0  \n",
       "2  2012-12-23       715            0           0  \n",
       "3  2013-11-21       382            0           0  \n",
       "4  2013-07-13       513            0           0  \n",
       "5  2013-04-29       588            0           0  \n",
       "6  2013-10-19       415            0           0  \n",
       "7  2014-10-07        62            0           0  \n",
       "8  2014-03-24       259            1           1  \n",
       "9  2013-11-10       393            0           0  "
      ]
     },
     "execution_count": 11,
     "metadata": {},
     "output_type": "execute_result"
    }
   ],
   "source": [
    "df.head(10)"
   ]
  },
  {
   "cell_type": "code",
   "execution_count": 13,
   "id": "cbfb8601-6dc2-4c65-82f5-c37caed476f6",
   "metadata": {},
   "outputs": [],
   "source": [
    "df = df[['reviewText', 'overall']].dropna()"
   ]
  },
  {
   "cell_type": "code",
   "execution_count": 15,
   "id": "71381930-103d-4ba5-a1eb-d1bd491b04f3",
   "metadata": {},
   "outputs": [],
   "source": [
    "df = df[df['overall'] != 3] \n",
    "df['sentiment'] = df['overall'].apply(lambda x: 1 if x > 3 else 0)"
   ]
  },
  {
   "cell_type": "code",
   "execution_count": 17,
   "id": "95d91163-2302-4e3b-91ee-46a5eff11b1d",
   "metadata": {},
   "outputs": [],
   "source": [
    "#clean text"
   ]
  },
  {
   "cell_type": "code",
   "execution_count": 19,
   "id": "03224e1e-f2a6-4b64-a1da-8337cb987f73",
   "metadata": {},
   "outputs": [],
   "source": [
    "def preprocess_text(text):\n",
    "    text = text.lower()\n",
    "    text = re.sub(r\"<.*?>\", \"\", text) \n",
    "    text = re.sub(r\"[^a-z\\s]\", \"\", text) \n",
    "    return text"
   ]
  },
  {
   "cell_type": "code",
   "execution_count": 21,
   "id": "28cb1d2d-c200-43bf-a875-7dfc1aeb5959",
   "metadata": {},
   "outputs": [],
   "source": [
    "df['cleaned_review'] = df['reviewText'].apply(preprocess_text)"
   ]
  },
  {
   "cell_type": "code",
   "execution_count": 25,
   "id": "b6096ba1-390a-426f-bd0c-00f485cc94e4",
   "metadata": {},
   "outputs": [],
   "source": [
    "from sklearn.model_selection import train_test_split\n",
    "X_train, X_test, y_train, y_test = train_test_split(df['cleaned_review'], df['sentiment'], test_size=0.2, random_state=42)\n"
   ]
  },
  {
   "cell_type": "code",
   "execution_count": 29,
   "id": "e23a9f81-0e7d-4318-8d24-c3de902b5a00",
   "metadata": {},
   "outputs": [],
   "source": [
    "from sklearn.feature_extraction.text import TfidfVectorizer\n",
    "from sklearn.linear_model import LogisticRegression\n",
    "from sklearn.metrics import classification_report, confusion_matrix, accuracy_score\n",
    "from sklearn.pipeline import Pipeline"
   ]
  },
  {
   "cell_type": "code",
   "execution_count": 31,
   "id": "fd0accc4-4ad1-4ed0-bc3b-64efc00da14f",
   "metadata": {},
   "outputs": [],
   "source": [
    "pipeline = Pipeline([\n",
    "    ('tfidf', TfidfVectorizer(max_features=5000)),\n",
    "    ('clf', LogisticRegression())\n",
    "])"
   ]
  },
  {
   "cell_type": "code",
   "execution_count": 33,
   "id": "20226b17-606b-43e8-b04e-eef051351938",
   "metadata": {},
   "outputs": [],
   "source": [
    "pipeline.fit(X_train, y_train)\n",
    "y_pred = pipeline.predict(X_test)"
   ]
  },
  {
   "cell_type": "code",
   "execution_count": 43,
   "id": "359ed44d-2ebb-4b51-9213-5cae61231628",
   "metadata": {},
   "outputs": [
    {
     "data": {
      "image/png": "[encoded data removed]",
      "text/plain": [
       "<Figure size 640x480 with 2 Axes>"
      ]
     },
     "metadata": {},
     "output_type": "display_data"
    }
   ],
   "source": [
    "conf_matrix = confusion_matrix(y_test, y_pred)\n",
    "sns.heatmap(conf_matrix, annot=True, fmt=\"d\", cmap=\"Blues\",\n",
    "            xticklabels=[\"Negative\", \"Positive\"],\n",
    "            yticklabels=[\"Negative\", \"Positive\"])\n",
    "plt.xlabel(\"Predicted\")\n",
    "plt.ylabel(\"Actual\")\n",
    "plt.title(\"Confusion Matrix\")\n",
    "plt.show()"
   ]
  },
  {
   "cell_type": "code",
   "execution_count": 47,
   "id": "cbc345ee-26d7-49ff-9d50-b5c83f1cd885",
   "metadata": {},
   "outputs": [
    {
     "name": "stdout",
     "output_type": "stream",
     "text": [
      "Accuracy: 0.9455497382198953\n"
     ]
    }
   ],
   "source": [
    "accuracy = accuracy_score(y_test, y_pred)\n",
    "print(\"Accuracy:\", accuracy)"
   ]
  },
  {
   "cell_type": "code",
   "execution_count": 45,
   "id": "34a12ec2-4f1b-4ce7-b862-4da50a9b05bd",
   "metadata": {},
   "outputs": [
    {
     "name": "stdout",
     "output_type": "stream",
     "text": [
      "\n",
      "📊 Classification Report:\n",
      "\n",
      "              precision    recall  f1-score   support\n",
      "\n",
      "           0       1.00      0.21      0.35        66\n",
      "           1       0.94      1.00      0.97       889\n",
      "\n",
      "    accuracy                           0.95       955\n",
      "   macro avg       0.97      0.61      0.66       955\n",
      "weighted avg       0.95      0.95      0.93       955\n",
      "\n"
     ]
    }
   ],
   "source": [
    "print(\"\\n📊 Classification Report:\\n\")\n",
    "print(classification_report(y_test, y_pred))"
   ]
  },
  {
   "cell_type": "code",
   "execution_count": null,
   "id": "4e185f1d-d59c-487b-a911-7e1f58a51581",
   "metadata": {},
   "outputs": [],
   "source": []
  }
 ],
 "metadata": {
  "kernelspec": {
   "display_name": "Python 3 (ipykernel)",
   "language": "python",
   "name": "python3"
  },
  "language_info": {
   "codemirror_mode": {
    "name": "ipython",
    "version": 3
   },
   "file_extension": ".py",
   "mimetype": "text/x-python",
   "name": "python",
   "nbconvert_exporter": "python",
   "pygments_lexer": "ipython3",
   "version": "3.12.4"
  }
 },
 "nbformat": 4,
 "nbformat_minor": 5
}
